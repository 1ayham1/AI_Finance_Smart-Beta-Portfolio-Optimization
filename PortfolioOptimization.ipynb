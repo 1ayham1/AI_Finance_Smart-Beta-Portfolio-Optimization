{
 "cells": [
  {
   "cell_type": "markdown",
   "source": [
    "# Smart Beta Portfolio and Portfolio Optimization"
   ],
   "metadata": {}
  },
  {
   "cell_type": "code",
   "execution_count": 2,
   "source": [
    "import sys\r\n",
    "!{sys.executable} -m pip install -r requirements.txt"
   ],
   "outputs": [
    {
     "output_type": "stream",
     "name": "stdout",
     "text": [
      "^C\n"
     ]
    }
   ],
   "metadata": {}
  },
  {
   "cell_type": "markdown",
   "source": [
    "### Load Packages"
   ],
   "metadata": {}
  },
  {
   "cell_type": "code",
   "execution_count": 4,
   "source": [
    "import pandas as pd\r\n",
    "import numpy as np\r\n",
    "import helper\r\n",
    "import project_helper\r\n",
    "import project_tests"
   ],
   "outputs": [
    {
     "output_type": "display_data",
     "data": {
      "text/html": [
       "        <script type=\"text/javascript\">\n",
       "        window.PlotlyConfig = {MathJaxConfig: 'local'};\n",
       "        if (window.MathJax) {MathJax.Hub.Config({SVG: {font: \"STIX-Web\"}});}\n",
       "        if (typeof require !== 'undefined') {\n",
       "        require.undef(\"plotly\");\n",
       "        requirejs.config({\n",
       "            paths: {\n",
       "                'plotly': ['https://cdn.plot.ly/plotly-2.2.0.min']\n",
       "            }\n",
       "        });\n",
       "        require(['plotly'], function(Plotly) {\n",
       "            window._Plotly = Plotly;\n",
       "        });\n",
       "        }\n",
       "        </script>\n",
       "        "
      ]
     },
     "metadata": {}
    }
   ],
   "metadata": {}
  },
  {
   "cell_type": "markdown",
   "source": [
    "## Market Data\n",
    "### Load Data\n",
    "For this universe of stocks, we'll be selecting large dollar volume stocks. We're using this universe, since it is highly liquid."
   ],
   "metadata": {}
  },
  {
   "cell_type": "code",
   "execution_count": 11,
   "source": [
    "df = pd.read_csv('./data/eod-quotemedia.csv')\r\n",
    "\r\n",
    "percent_top_dollar = 0.2\r\n",
    "high_volume_symbols = project_helper.large_dollar_volume_stocks(df, 'adj_close', 'adj_volume', percent_top_dollar)\r\n",
    "df = df[df['ticker'].isin(high_volume_symbols)]\r\n",
    "\r\n",
    "close = df.reset_index().pivot(index='date', columns='ticker', values='adj_close')\r\n",
    "volume = df.reset_index().pivot(index='date', columns='ticker', values='adj_volume')\r\n",
    "dividends = df.reset_index().pivot(index='date', columns='ticker', values='dividends')"
   ],
   "outputs": [],
   "metadata": {}
  },
  {
   "cell_type": "markdown",
   "source": [
    "### View Data\n",
    "To see what one of these 2-d matrices looks like, let's take a look at the closing prices matrix."
   ],
   "metadata": {}
  },
  {
   "cell_type": "code",
   "execution_count": 6,
   "source": [
    "project_helper.print_dataframe(close)"
   ],
   "outputs": [
    {
     "output_type": "display_data",
     "data": {
      "application/vnd.plotly.v1+json": {
       "config": {
        "displayModeBar": false,
        "linkText": "Export to plot.ly",
        "plotlyServerURL": "https://plot.ly",
        "showAxisRangeEntryBoxes": true,
        "showLink": false
       },
       "data": [
        {
         "cells": {
          "fill": {
           "color": [
            "silver",
            "white"
           ]
          },
          "font": {
           "size": 13
          },
          "line": {
           "color": "silver"
          },
          "values": [
           [
            "2013-07-01",
            "2013-07-02",
            "2013-07-03",
            "2013-07-05",
            "2013-07-08",
            "2013-07-09",
            "2013-07-10",
            "2013-07-11",
            "2013-07-12",
            "2013-07-15",
            "..."
           ],
           [
            "16.176",
            "15.820",
            "16.128",
            "16.215",
            "16.311",
            "16.715",
            "16.532",
            "16.725",
            "16.908",
            "17.100",
            "..."
           ],
           [
            "53.109",
            "54.312",
            "54.612",
            "54.173",
            "53.866",
            "54.813",
            "54.603",
            "55.454",
            "55.353",
            "55.474",
            "..."
           ],
           [
            "34.924",
            "35.428",
            "35.445",
            "35.856",
            "36.662",
            "36.360",
            "36.855",
            "37.082",
            "38.157",
            "37.793",
            "..."
           ],
           [
            "...",
            "...",
            "...",
            "...",
            "...",
            "...",
            "...",
            "...",
            "...",
            "...",
            "..."
           ]
          ]
         },
         "columnwidth": [
          1,
          3
         ],
         "header": {
          "fill": {
           "color": "silver"
          },
          "font": {
           "size": 13
          },
          "line": {
           "color": "silver"
          },
          "values": [
           "",
           "AAL",
           "AAPL",
           "ABBV",
           "..."
          ]
         },
         "type": "table"
        }
       ],
       "layout": {
        "template": {
         "data": {
          "bar": [
           {
            "error_x": {
             "color": "#2a3f5f"
            },
            "error_y": {
             "color": "#2a3f5f"
            },
            "marker": {
             "line": {
              "color": "#E5ECF6",
              "width": 0.5
             },
             "pattern": {
              "fillmode": "overlay",
              "size": 10,
              "solidity": 0.2
             }
            },
            "type": "bar"
           }
          ],
          "barpolar": [
           {
            "marker": {
             "line": {
              "color": "#E5ECF6",
              "width": 0.5
             },
             "pattern": {
              "fillmode": "overlay",
              "size": 10,
              "solidity": 0.2
             }
            },
            "type": "barpolar"
           }
          ],
          "carpet": [
           {
            "aaxis": {
             "endlinecolor": "#2a3f5f",
             "gridcolor": "white",
             "linecolor": "white",
             "minorgridcolor": "white",
             "startlinecolor": "#2a3f5f"
            },
            "baxis": {
             "endlinecolor": "#2a3f5f",
             "gridcolor": "white",
             "linecolor": "white",
             "minorgridcolor": "white",
             "startlinecolor": "#2a3f5f"
            },
            "type": "carpet"
           }
          ],
          "choropleth": [
           {
            "colorbar": {
             "outlinewidth": 0,
             "ticks": ""
            },
            "type": "choropleth"
           }
          ],
          "contour": [
           {
            "colorbar": {
             "outlinewidth": 0,
             "ticks": ""
            },
            "colorscale": [
             [
              0,
              "#0d0887"
             ],
             [
              0.1111111111111111,
              "#46039f"
             ],
             [
              0.2222222222222222,
              "#7201a8"
             ],
             [
              0.3333333333333333,
              "#9c179e"
             ],
             [
              0.4444444444444444,
              "#bd3786"
             ],
             [
              0.5555555555555556,
              "#d8576b"
             ],
             [
              0.6666666666666666,
              "#ed7953"
             ],
             [
              0.7777777777777778,
              "#fb9f3a"
             ],
             [
              0.8888888888888888,
              "#fdca26"
             ],
             [
              1,
              "#f0f921"
             ]
            ],
            "type": "contour"
           }
          ],
          "contourcarpet": [
           {
            "colorbar": {
             "outlinewidth": 0,
             "ticks": ""
            },
            "type": "contourcarpet"
           }
          ],
          "heatmap": [
           {
            "colorbar": {
             "outlinewidth": 0,
             "ticks": ""
            },
            "colorscale": [
             [
              0,
              "#0d0887"
             ],
             [
              0.1111111111111111,
              "#46039f"
             ],
             [
              0.2222222222222222,
              "#7201a8"
             ],
             [
              0.3333333333333333,
              "#9c179e"
             ],
             [
              0.4444444444444444,
              "#bd3786"
             ],
             [
              0.5555555555555556,
              "#d8576b"
             ],
             [
              0.6666666666666666,
              "#ed7953"
             ],
             [
              0.7777777777777778,
              "#fb9f3a"
             ],
             [
              0.8888888888888888,
              "#fdca26"
             ],
             [
              1,
              "#f0f921"
             ]
            ],
            "type": "heatmap"
           }
          ],
          "heatmapgl": [
           {
            "colorbar": {
             "outlinewidth": 0,
             "ticks": ""
            },
            "colorscale": [
             [
              0,
              "#0d0887"
             ],
             [
              0.1111111111111111,
              "#46039f"
             ],
             [
              0.2222222222222222,
              "#7201a8"
             ],
             [
              0.3333333333333333,
              "#9c179e"
             ],
             [
              0.4444444444444444,
              "#bd3786"
             ],
             [
              0.5555555555555556,
              "#d8576b"
             ],
             [
              0.6666666666666666,
              "#ed7953"
             ],
             [
              0.7777777777777778,
              "#fb9f3a"
             ],
             [
              0.8888888888888888,
              "#fdca26"
             ],
             [
              1,
              "#f0f921"
             ]
            ],
            "type": "heatmapgl"
           }
          ],
          "histogram": [
           {
            "marker": {
             "pattern": {
              "fillmode": "overlay",
              "size": 10,
              "solidity": 0.2
             }
            },
            "type": "histogram"
           }
          ],
          "histogram2d": [
           {
            "colorbar": {
             "outlinewidth": 0,
             "ticks": ""
            },
            "colorscale": [
             [
              0,
              "#0d0887"
             ],
             [
              0.1111111111111111,
              "#46039f"
             ],
             [
              0.2222222222222222,
              "#7201a8"
             ],
             [
              0.3333333333333333,
              "#9c179e"
             ],
             [
              0.4444444444444444,
              "#bd3786"
             ],
             [
              0.5555555555555556,
              "#d8576b"
             ],
             [
              0.6666666666666666,
              "#ed7953"
             ],
             [
              0.7777777777777778,
              "#fb9f3a"
             ],
             [
              0.8888888888888888,
              "#fdca26"
             ],
             [
              1,
              "#f0f921"
             ]
            ],
            "type": "histogram2d"
           }
          ],
          "histogram2dcontour": [
           {
            "colorbar": {
             "outlinewidth": 0,
             "ticks": ""
            },
            "colorscale": [
             [
              0,
              "#0d0887"
             ],
             [
              0.1111111111111111,
              "#46039f"
             ],
             [
              0.2222222222222222,
              "#7201a8"
             ],
             [
              0.3333333333333333,
              "#9c179e"
             ],
             [
              0.4444444444444444,
              "#bd3786"
             ],
             [
              0.5555555555555556,
              "#d8576b"
             ],
             [
              0.6666666666666666,
              "#ed7953"
             ],
             [
              0.7777777777777778,
              "#fb9f3a"
             ],
             [
              0.8888888888888888,
              "#fdca26"
             ],
             [
              1,
              "#f0f921"
             ]
            ],
            "type": "histogram2dcontour"
           }
          ],
          "mesh3d": [
           {
            "colorbar": {
             "outlinewidth": 0,
             "ticks": ""
            },
            "type": "mesh3d"
           }
          ],
          "parcoords": [
           {
            "line": {
             "colorbar": {
              "outlinewidth": 0,
              "ticks": ""
             }
            },
            "type": "parcoords"
           }
          ],
          "pie": [
           {
            "automargin": true,
            "type": "pie"
           }
          ],
          "scatter": [
           {
            "marker": {
             "colorbar": {
              "outlinewidth": 0,
              "ticks": ""
             }
            },
            "type": "scatter"
           }
          ],
          "scatter3d": [
           {
            "line": {
             "colorbar": {
              "outlinewidth": 0,
              "ticks": ""
             }
            },
            "marker": {
             "colorbar": {
              "outlinewidth": 0,
              "ticks": ""
             }
            },
            "type": "scatter3d"
           }
          ],
          "scattercarpet": [
           {
            "marker": {
             "colorbar": {
              "outlinewidth": 0,
              "ticks": ""
             }
            },
            "type": "scattercarpet"
           }
          ],
          "scattergeo": [
           {
            "marker": {
             "colorbar": {
              "outlinewidth": 0,
              "ticks": ""
             }
            },
            "type": "scattergeo"
           }
          ],
          "scattergl": [
           {
            "marker": {
             "colorbar": {
              "outlinewidth": 0,
              "ticks": ""
             }
            },
            "type": "scattergl"
           }
          ],
          "scattermapbox": [
           {
            "marker": {
             "colorbar": {
              "outlinewidth": 0,
              "ticks": ""
             }
            },
            "type": "scattermapbox"
           }
          ],
          "scatterpolar": [
           {
            "marker": {
             "colorbar": {
              "outlinewidth": 0,
              "ticks": ""
             }
            },
            "type": "scatterpolar"
           }
          ],
          "scatterpolargl": [
           {
            "marker": {
             "colorbar": {
              "outlinewidth": 0,
              "ticks": ""
             }
            },
            "type": "scatterpolargl"
           }
          ],
          "scatterternary": [
           {
            "marker": {
             "colorbar": {
              "outlinewidth": 0,
              "ticks": ""
             }
            },
            "type": "scatterternary"
           }
          ],
          "surface": [
           {
            "colorbar": {
             "outlinewidth": 0,
             "ticks": ""
            },
            "colorscale": [
             [
              0,
              "#0d0887"
             ],
             [
              0.1111111111111111,
              "#46039f"
             ],
             [
              0.2222222222222222,
              "#7201a8"
             ],
             [
              0.3333333333333333,
              "#9c179e"
             ],
             [
              0.4444444444444444,
              "#bd3786"
             ],
             [
              0.5555555555555556,
              "#d8576b"
             ],
             [
              0.6666666666666666,
              "#ed7953"
             ],
             [
              0.7777777777777778,
              "#fb9f3a"
             ],
             [
              0.8888888888888888,
              "#fdca26"
             ],
             [
              1,
              "#f0f921"
             ]
            ],
            "type": "surface"
           }
          ],
          "table": [
           {
            "cells": {
             "fill": {
              "color": "#EBF0F8"
             },
             "line": {
              "color": "white"
             }
            },
            "header": {
             "fill": {
              "color": "#C8D4E3"
             },
             "line": {
              "color": "white"
             }
            },
            "type": "table"
           }
          ]
         },
         "layout": {
          "annotationdefaults": {
           "arrowcolor": "#2a3f5f",
           "arrowhead": 0,
           "arrowwidth": 1
          },
          "autotypenumbers": "strict",
          "coloraxis": {
           "colorbar": {
            "outlinewidth": 0,
            "ticks": ""
           }
          },
          "colorscale": {
           "diverging": [
            [
             0,
             "#8e0152"
            ],
            [
             0.1,
             "#c51b7d"
            ],
            [
             0.2,
             "#de77ae"
            ],
            [
             0.3,
             "#f1b6da"
            ],
            [
             0.4,
             "#fde0ef"
            ],
            [
             0.5,
             "#f7f7f7"
            ],
            [
             0.6,
             "#e6f5d0"
            ],
            [
             0.7,
             "#b8e186"
            ],
            [
             0.8,
             "#7fbc41"
            ],
            [
             0.9,
             "#4d9221"
            ],
            [
             1,
             "#276419"
            ]
           ],
           "sequential": [
            [
             0,
             "#0d0887"
            ],
            [
             0.1111111111111111,
             "#46039f"
            ],
            [
             0.2222222222222222,
             "#7201a8"
            ],
            [
             0.3333333333333333,
             "#9c179e"
            ],
            [
             0.4444444444444444,
             "#bd3786"
            ],
            [
             0.5555555555555556,
             "#d8576b"
            ],
            [
             0.6666666666666666,
             "#ed7953"
            ],
            [
             0.7777777777777778,
             "#fb9f3a"
            ],
            [
             0.8888888888888888,
             "#fdca26"
            ],
            [
             1,
             "#f0f921"
            ]
           ],
           "sequentialminus": [
            [
             0,
             "#0d0887"
            ],
            [
             0.1111111111111111,
             "#46039f"
            ],
            [
             0.2222222222222222,
             "#7201a8"
            ],
            [
             0.3333333333333333,
             "#9c179e"
            ],
            [
             0.4444444444444444,
             "#bd3786"
            ],
            [
             0.5555555555555556,
             "#d8576b"
            ],
            [
             0.6666666666666666,
             "#ed7953"
            ],
            [
             0.7777777777777778,
             "#fb9f3a"
            ],
            [
             0.8888888888888888,
             "#fdca26"
            ],
            [
             1,
             "#f0f921"
            ]
           ]
          },
          "colorway": [
           "#636efa",
           "#EF553B",
           "#00cc96",
           "#ab63fa",
           "#FFA15A",
           "#19d3f3",
           "#FF6692",
           "#B6E880",
           "#FF97FF",
           "#FECB52"
          ],
          "font": {
           "color": "#2a3f5f"
          },
          "geo": {
           "bgcolor": "white",
           "lakecolor": "white",
           "landcolor": "#E5ECF6",
           "showlakes": true,
           "showland": true,
           "subunitcolor": "white"
          },
          "hoverlabel": {
           "align": "left"
          },
          "hovermode": "closest",
          "mapbox": {
           "style": "light"
          },
          "paper_bgcolor": "white",
          "plot_bgcolor": "#E5ECF6",
          "polar": {
           "angularaxis": {
            "gridcolor": "white",
            "linecolor": "white",
            "ticks": ""
           },
           "bgcolor": "#E5ECF6",
           "radialaxis": {
            "gridcolor": "white",
            "linecolor": "white",
            "ticks": ""
           }
          },
          "scene": {
           "xaxis": {
            "backgroundcolor": "#E5ECF6",
            "gridcolor": "white",
            "gridwidth": 2,
            "linecolor": "white",
            "showbackground": true,
            "ticks": "",
            "zerolinecolor": "white"
           },
           "yaxis": {
            "backgroundcolor": "#E5ECF6",
            "gridcolor": "white",
            "gridwidth": 2,
            "linecolor": "white",
            "showbackground": true,
            "ticks": "",
            "zerolinecolor": "white"
           },
           "zaxis": {
            "backgroundcolor": "#E5ECF6",
            "gridcolor": "white",
            "gridwidth": 2,
            "linecolor": "white",
            "showbackground": true,
            "ticks": "",
            "zerolinecolor": "white"
           }
          },
          "shapedefaults": {
           "line": {
            "color": "#2a3f5f"
           }
          },
          "ternary": {
           "aaxis": {
            "gridcolor": "white",
            "linecolor": "white",
            "ticks": ""
           },
           "baxis": {
            "gridcolor": "white",
            "linecolor": "white",
            "ticks": ""
           },
           "bgcolor": "#E5ECF6",
           "caxis": {
            "gridcolor": "white",
            "linecolor": "white",
            "ticks": ""
           }
          },
          "title": {
           "x": 0.05
          },
          "xaxis": {
           "automargin": true,
           "gridcolor": "white",
           "linecolor": "white",
           "ticks": "",
           "title": {
            "standoff": 15
           },
           "zerolinecolor": "white",
           "zerolinewidth": 2
          },
          "yaxis": {
           "automargin": true,
           "gridcolor": "white",
           "linecolor": "white",
           "ticks": "",
           "title": {
            "standoff": 15
           },
           "zerolinecolor": "white",
           "zerolinewidth": 2
          }
         }
        }
       }
      },
      "text/html": [
       "<div>                            <div id=\"06624a01-80cc-4b80-abec-97620ead4ab8\" class=\"plotly-graph-div\" style=\"height:525px; width:100%;\"></div>            <script type=\"text/javascript\">                require([\"plotly\"], function(Plotly) {                    window.PLOTLYENV=window.PLOTLYENV || {};                                    if (document.getElementById(\"06624a01-80cc-4b80-abec-97620ead4ab8\")) {                    Plotly.newPlot(                        \"06624a01-80cc-4b80-abec-97620ead4ab8\",                        [{\"cells\":{\"fill\":{\"color\":[\"silver\",\"white\"]},\"font\":{\"size\":13},\"line\":{\"color\":\"silver\"},\"values\":[[\"2013-07-01\",\"2013-07-02\",\"2013-07-03\",\"2013-07-05\",\"2013-07-08\",\"2013-07-09\",\"2013-07-10\",\"2013-07-11\",\"2013-07-12\",\"2013-07-15\",\"...\"],[\"16.176\",\"15.820\",\"16.128\",\"16.215\",\"16.311\",\"16.715\",\"16.532\",\"16.725\",\"16.908\",\"17.100\",\"...\"],[\"53.109\",\"54.312\",\"54.612\",\"54.173\",\"53.866\",\"54.813\",\"54.603\",\"55.454\",\"55.353\",\"55.474\",\"...\"],[\"34.924\",\"35.428\",\"35.445\",\"35.856\",\"36.662\",\"36.360\",\"36.855\",\"37.082\",\"38.157\",\"37.793\",\"...\"],[\"...\",\"...\",\"...\",\"...\",\"...\",\"...\",\"...\",\"...\",\"...\",\"...\",\"...\"]]},\"columnwidth\":[1,3],\"header\":{\"fill\":{\"color\":\"silver\"},\"font\":{\"size\":13},\"line\":{\"color\":\"silver\"},\"values\":[\"\",\"AAL\",\"AAPL\",\"ABBV\",\"...\"]},\"type\":\"table\"}],                        {\"template\":{\"data\":{\"bar\":[{\"error_x\":{\"color\":\"#2a3f5f\"},\"error_y\":{\"color\":\"#2a3f5f\"},\"marker\":{\"line\":{\"color\":\"#E5ECF6\",\"width\":0.5},\"pattern\":{\"fillmode\":\"overlay\",\"size\":10,\"solidity\":0.2}},\"type\":\"bar\"}],\"barpolar\":[{\"marker\":{\"line\":{\"color\":\"#E5ECF6\",\"width\":0.5},\"pattern\":{\"fillmode\":\"overlay\",\"size\":10,\"solidity\":0.2}},\"type\":\"barpolar\"}],\"carpet\":[{\"aaxis\":{\"endlinecolor\":\"#2a3f5f\",\"gridcolor\":\"white\",\"linecolor\":\"white\",\"minorgridcolor\":\"white\",\"startlinecolor\":\"#2a3f5f\"},\"baxis\":{\"endlinecolor\":\"#2a3f5f\",\"gridcolor\":\"white\",\"linecolor\":\"white\",\"minorgridcolor\":\"white\",\"startlinecolor\":\"#2a3f5f\"},\"type\":\"carpet\"}],\"choropleth\":[{\"colorbar\":{\"outlinewidth\":0,\"ticks\":\"\"},\"type\":\"choropleth\"}],\"contour\":[{\"colorbar\":{\"outlinewidth\":0,\"ticks\":\"\"},\"colorscale\":[[0.0,\"#0d0887\"],[0.1111111111111111,\"#46039f\"],[0.2222222222222222,\"#7201a8\"],[0.3333333333333333,\"#9c179e\"],[0.4444444444444444,\"#bd3786\"],[0.5555555555555556,\"#d8576b\"],[0.6666666666666666,\"#ed7953\"],[0.7777777777777778,\"#fb9f3a\"],[0.8888888888888888,\"#fdca26\"],[1.0,\"#f0f921\"]],\"type\":\"contour\"}],\"contourcarpet\":[{\"colorbar\":{\"outlinewidth\":0,\"ticks\":\"\"},\"type\":\"contourcarpet\"}],\"heatmap\":[{\"colorbar\":{\"outlinewidth\":0,\"ticks\":\"\"},\"colorscale\":[[0.0,\"#0d0887\"],[0.1111111111111111,\"#46039f\"],[0.2222222222222222,\"#7201a8\"],[0.3333333333333333,\"#9c179e\"],[0.4444444444444444,\"#bd3786\"],[0.5555555555555556,\"#d8576b\"],[0.6666666666666666,\"#ed7953\"],[0.7777777777777778,\"#fb9f3a\"],[0.8888888888888888,\"#fdca26\"],[1.0,\"#f0f921\"]],\"type\":\"heatmap\"}],\"heatmapgl\":[{\"colorbar\":{\"outlinewidth\":0,\"ticks\":\"\"},\"colorscale\":[[0.0,\"#0d0887\"],[0.1111111111111111,\"#46039f\"],[0.2222222222222222,\"#7201a8\"],[0.3333333333333333,\"#9c179e\"],[0.4444444444444444,\"#bd3786\"],[0.5555555555555556,\"#d8576b\"],[0.6666666666666666,\"#ed7953\"],[0.7777777777777778,\"#fb9f3a\"],[0.8888888888888888,\"#fdca26\"],[1.0,\"#f0f921\"]],\"type\":\"heatmapgl\"}],\"histogram\":[{\"marker\":{\"pattern\":{\"fillmode\":\"overlay\",\"size\":10,\"solidity\":0.2}},\"type\":\"histogram\"}],\"histogram2d\":[{\"colorbar\":{\"outlinewidth\":0,\"ticks\":\"\"},\"colorscale\":[[0.0,\"#0d0887\"],[0.1111111111111111,\"#46039f\"],[0.2222222222222222,\"#7201a8\"],[0.3333333333333333,\"#9c179e\"],[0.4444444444444444,\"#bd3786\"],[0.5555555555555556,\"#d8576b\"],[0.6666666666666666,\"#ed7953\"],[0.7777777777777778,\"#fb9f3a\"],[0.8888888888888888,\"#fdca26\"],[1.0,\"#f0f921\"]],\"type\":\"histogram2d\"}],\"histogram2dcontour\":[{\"colorbar\":{\"outlinewidth\":0,\"ticks\":\"\"},\"colorscale\":[[0.0,\"#0d0887\"],[0.1111111111111111,\"#46039f\"],[0.2222222222222222,\"#7201a8\"],[0.3333333333333333,\"#9c179e\"],[0.4444444444444444,\"#bd3786\"],[0.5555555555555556,\"#d8576b\"],[0.6666666666666666,\"#ed7953\"],[0.7777777777777778,\"#fb9f3a\"],[0.8888888888888888,\"#fdca26\"],[1.0,\"#f0f921\"]],\"type\":\"histogram2dcontour\"}],\"mesh3d\":[{\"colorbar\":{\"outlinewidth\":0,\"ticks\":\"\"},\"type\":\"mesh3d\"}],\"parcoords\":[{\"line\":{\"colorbar\":{\"outlinewidth\":0,\"ticks\":\"\"}},\"type\":\"parcoords\"}],\"pie\":[{\"automargin\":true,\"type\":\"pie\"}],\"scatter\":[{\"marker\":{\"colorbar\":{\"outlinewidth\":0,\"ticks\":\"\"}},\"type\":\"scatter\"}],\"scatter3d\":[{\"line\":{\"colorbar\":{\"outlinewidth\":0,\"ticks\":\"\"}},\"marker\":{\"colorbar\":{\"outlinewidth\":0,\"ticks\":\"\"}},\"type\":\"scatter3d\"}],\"scattercarpet\":[{\"marker\":{\"colorbar\":{\"outlinewidth\":0,\"ticks\":\"\"}},\"type\":\"scattercarpet\"}],\"scattergeo\":[{\"marker\":{\"colorbar\":{\"outlinewidth\":0,\"ticks\":\"\"}},\"type\":\"scattergeo\"}],\"scattergl\":[{\"marker\":{\"colorbar\":{\"outlinewidth\":0,\"ticks\":\"\"}},\"type\":\"scattergl\"}],\"scattermapbox\":[{\"marker\":{\"colorbar\":{\"outlinewidth\":0,\"ticks\":\"\"}},\"type\":\"scattermapbox\"}],\"scatterpolar\":[{\"marker\":{\"colorbar\":{\"outlinewidth\":0,\"ticks\":\"\"}},\"type\":\"scatterpolar\"}],\"scatterpolargl\":[{\"marker\":{\"colorbar\":{\"outlinewidth\":0,\"ticks\":\"\"}},\"type\":\"scatterpolargl\"}],\"scatterternary\":[{\"marker\":{\"colorbar\":{\"outlinewidth\":0,\"ticks\":\"\"}},\"type\":\"scatterternary\"}],\"surface\":[{\"colorbar\":{\"outlinewidth\":0,\"ticks\":\"\"},\"colorscale\":[[0.0,\"#0d0887\"],[0.1111111111111111,\"#46039f\"],[0.2222222222222222,\"#7201a8\"],[0.3333333333333333,\"#9c179e\"],[0.4444444444444444,\"#bd3786\"],[0.5555555555555556,\"#d8576b\"],[0.6666666666666666,\"#ed7953\"],[0.7777777777777778,\"#fb9f3a\"],[0.8888888888888888,\"#fdca26\"],[1.0,\"#f0f921\"]],\"type\":\"surface\"}],\"table\":[{\"cells\":{\"fill\":{\"color\":\"#EBF0F8\"},\"line\":{\"color\":\"white\"}},\"header\":{\"fill\":{\"color\":\"#C8D4E3\"},\"line\":{\"color\":\"white\"}},\"type\":\"table\"}]},\"layout\":{\"annotationdefaults\":{\"arrowcolor\":\"#2a3f5f\",\"arrowhead\":0,\"arrowwidth\":1},\"autotypenumbers\":\"strict\",\"coloraxis\":{\"colorbar\":{\"outlinewidth\":0,\"ticks\":\"\"}},\"colorscale\":{\"diverging\":[[0,\"#8e0152\"],[0.1,\"#c51b7d\"],[0.2,\"#de77ae\"],[0.3,\"#f1b6da\"],[0.4,\"#fde0ef\"],[0.5,\"#f7f7f7\"],[0.6,\"#e6f5d0\"],[0.7,\"#b8e186\"],[0.8,\"#7fbc41\"],[0.9,\"#4d9221\"],[1,\"#276419\"]],\"sequential\":[[0.0,\"#0d0887\"],[0.1111111111111111,\"#46039f\"],[0.2222222222222222,\"#7201a8\"],[0.3333333333333333,\"#9c179e\"],[0.4444444444444444,\"#bd3786\"],[0.5555555555555556,\"#d8576b\"],[0.6666666666666666,\"#ed7953\"],[0.7777777777777778,\"#fb9f3a\"],[0.8888888888888888,\"#fdca26\"],[1.0,\"#f0f921\"]],\"sequentialminus\":[[0.0,\"#0d0887\"],[0.1111111111111111,\"#46039f\"],[0.2222222222222222,\"#7201a8\"],[0.3333333333333333,\"#9c179e\"],[0.4444444444444444,\"#bd3786\"],[0.5555555555555556,\"#d8576b\"],[0.6666666666666666,\"#ed7953\"],[0.7777777777777778,\"#fb9f3a\"],[0.8888888888888888,\"#fdca26\"],[1.0,\"#f0f921\"]]},\"colorway\":[\"#636efa\",\"#EF553B\",\"#00cc96\",\"#ab63fa\",\"#FFA15A\",\"#19d3f3\",\"#FF6692\",\"#B6E880\",\"#FF97FF\",\"#FECB52\"],\"font\":{\"color\":\"#2a3f5f\"},\"geo\":{\"bgcolor\":\"white\",\"lakecolor\":\"white\",\"landcolor\":\"#E5ECF6\",\"showlakes\":true,\"showland\":true,\"subunitcolor\":\"white\"},\"hoverlabel\":{\"align\":\"left\"},\"hovermode\":\"closest\",\"mapbox\":{\"style\":\"light\"},\"paper_bgcolor\":\"white\",\"plot_bgcolor\":\"#E5ECF6\",\"polar\":{\"angularaxis\":{\"gridcolor\":\"white\",\"linecolor\":\"white\",\"ticks\":\"\"},\"bgcolor\":\"#E5ECF6\",\"radialaxis\":{\"gridcolor\":\"white\",\"linecolor\":\"white\",\"ticks\":\"\"}},\"scene\":{\"xaxis\":{\"backgroundcolor\":\"#E5ECF6\",\"gridcolor\":\"white\",\"gridwidth\":2,\"linecolor\":\"white\",\"showbackground\":true,\"ticks\":\"\",\"zerolinecolor\":\"white\"},\"yaxis\":{\"backgroundcolor\":\"#E5ECF6\",\"gridcolor\":\"white\",\"gridwidth\":2,\"linecolor\":\"white\",\"showbackground\":true,\"ticks\":\"\",\"zerolinecolor\":\"white\"},\"zaxis\":{\"backgroundcolor\":\"#E5ECF6\",\"gridcolor\":\"white\",\"gridwidth\":2,\"linecolor\":\"white\",\"showbackground\":true,\"ticks\":\"\",\"zerolinecolor\":\"white\"}},\"shapedefaults\":{\"line\":{\"color\":\"#2a3f5f\"}},\"ternary\":{\"aaxis\":{\"gridcolor\":\"white\",\"linecolor\":\"white\",\"ticks\":\"\"},\"baxis\":{\"gridcolor\":\"white\",\"linecolor\":\"white\",\"ticks\":\"\"},\"bgcolor\":\"#E5ECF6\",\"caxis\":{\"gridcolor\":\"white\",\"linecolor\":\"white\",\"ticks\":\"\"}},\"title\":{\"x\":0.05},\"xaxis\":{\"automargin\":true,\"gridcolor\":\"white\",\"linecolor\":\"white\",\"ticks\":\"\",\"title\":{\"standoff\":15},\"zerolinecolor\":\"white\",\"zerolinewidth\":2},\"yaxis\":{\"automargin\":true,\"gridcolor\":\"white\",\"linecolor\":\"white\",\"ticks\":\"\",\"title\":{\"standoff\":15},\"zerolinecolor\":\"white\",\"zerolinewidth\":2}}}},                        {\"displayModeBar\": false, \"showAxisRangeEntryBoxes\": true, \"responsive\": true}                    ).then(function(){\n",
       "                            \n",
       "var gd = document.getElementById('06624a01-80cc-4b80-abec-97620ead4ab8');\n",
       "var x = new MutationObserver(function (mutations, observer) {{\n",
       "        var display = window.getComputedStyle(gd).display;\n",
       "        if (!display || display === 'none') {{\n",
       "            console.log([gd, 'removed!']);\n",
       "            Plotly.purge(gd);\n",
       "            observer.disconnect();\n",
       "        }}\n",
       "}});\n",
       "\n",
       "// Listen for the removal of the full notebook cells\n",
       "var notebookContainer = gd.closest('#notebook-container');\n",
       "if (notebookContainer) {{\n",
       "    x.observe(notebookContainer, {childList: true});\n",
       "}}\n",
       "\n",
       "// Listen for the clearing of the current output cell\n",
       "var outputEl = gd.closest('.output');\n",
       "if (outputEl) {{\n",
       "    x.observe(outputEl, {childList: true});\n",
       "}}\n",
       "\n",
       "                        })                };                });            </script>        </div>"
      ]
     },
     "metadata": {}
    }
   ],
   "metadata": {}
  },
  {
   "cell_type": "markdown",
   "source": [
    "# Part 1: Smart Beta Portfolio\r\n",
    "build a portfolio using dividend yield to choose the portfolio weights. A portfolio such as this could be incorporated into a smart beta ETF. This portfolio is then compared to a market cap weighted index to see how well it performs. \r\n",
    "\r\n",
    "In practice, one probably gets the index weights from a data vendor (such as companies that create indices, like MSCI, FTSE, Standard and Poor's). For the sake of practice, a market cap weighted index is simulated.\r\n",
    "\r\n",
    "## Index Weights\r\n",
    "The index we'll be using is based on large dollar volume stocks. `generate_dollar_volume_weights` generates the weights for this index. For each date, the weights based on dollar volume traded for that date are generated. For example, assume the following is close prices and volume data:\r\n",
    "```\r\n",
    "                 Prices\r\n",
    "               A         B         ...\r\n",
    "2013-07-08     2         2         ...\r\n",
    "2013-07-09     5         6         ...\r\n",
    "2013-07-10     1         2         ...\r\n",
    "2013-07-11     6         5         ...\r\n",
    "...            ...       ...       ...\r\n",
    "\r\n",
    "                 Volume\r\n",
    "               A         B         ...\r\n",
    "2013-07-08     100       340       ...\r\n",
    "2013-07-09     240       220       ...\r\n",
    "2013-07-10     120       500       ...\r\n",
    "2013-07-11     10        100       ...\r\n",
    "...            ...       ...       ...\r\n",
    "```\r\n",
    "The weights created from the function `generate_dollar_volume_weights` should be the following:\r\n",
    "```\r\n",
    "               A         B         ...\r\n",
    "2013-07-08     0.126..   0.194..   ...\r\n",
    "2013-07-09     0.759..   0.377..   ...\r\n",
    "2013-07-10     0.075..   0.285..   ...\r\n",
    "2013-07-11     0.037..   0.142..   ...\r\n",
    "...            ...       ...       ...\r\n",
    "```"
   ],
   "metadata": {}
  },
  {
   "cell_type": "code",
   "execution_count": 38,
   "source": [
    "def generate_dollar_volume_weights(close, volume):\r\n",
    "    \"\"\"\r\n",
    "    Generate dollar volume weights.\r\n",
    "\r\n",
    "    Parameters\r\n",
    "    ----------\r\n",
    "    close : DataFrame\r\n",
    "        Close price for each ticker and date\r\n",
    "    volume : str\r\n",
    "        Volume for each ticker and date\r\n",
    "\r\n",
    "    Returns\r\n",
    "    -------\r\n",
    "    dollar_volume_weights : DataFrame\r\n",
    "        The dollar volume weights for each ticker and date\r\n",
    "    \"\"\"\r\n",
    "    assert close.index.equals(volume.index)\r\n",
    "    assert close.columns.equals(volume.columns)\r\n",
    "    \r\n",
    "    price_volume = close * volume\r\n",
    "    dollar_volume_weights = price_volume.div(price_volume.sum(axis=1), axis=0)\r\n",
    "    \r\n",
    "    return dollar_volume_weights\r\n",
    "\r\n",
    "project_tests.test_generate_dollar_volume_weights(generate_dollar_volume_weights)"
   ],
   "outputs": [
    {
     "output_type": "stream",
     "name": "stdout",
     "text": [
      "Tests Passed\n"
     ]
    },
    {
     "output_type": "stream",
     "name": "stderr",
     "text": [
      "c:\\Users\\Ayham\\Desktop\\2021_ND_Programs\\2021_AI_ForTrading\\Term_1\\z_Projects\\AI_Finance_Smart-Beta-Portfolio-Optimization\\tests.py:154: FutureWarning:\n",
      "\n",
      "In a future version of pandas all arguments of DataFrame.sort_index will be keyword-only\n",
      "\n",
      "c:\\Users\\Ayham\\Desktop\\2021_ND_Programs\\2021_AI_ForTrading\\Term_1\\z_Projects\\AI_Finance_Smart-Beta-Portfolio-Optimization\\tests.py:155: FutureWarning:\n",
      "\n",
      "In a future version of pandas all arguments of DataFrame.sort_index will be keyword-only\n",
      "\n"
     ]
    }
   ],
   "metadata": {}
  },
  {
   "cell_type": "markdown",
   "source": [
    "### View Data\n",
    "Let's generate the index weights using `generate_dollar_volume_weights` and view them using a heatmap."
   ],
   "metadata": {}
  },
  {
   "cell_type": "code",
   "execution_count": 39,
   "source": [
    "index_weights = generate_dollar_volume_weights(close, volume)\r\n",
    "project_helper.plot_weights(index_weights, 'Index Weights')"
   ],
   "outputs": [
    {
     "output_type": "display_data",
     "data": {
      "text/html": [
       "The graph for Index Weights is too large. You can view it <a href=\"graphs/IndexWeights.html\" target=\"_blank\">here</a>."
      ],
      "text/plain": [
       "<IPython.core.display.HTML object>"
      ]
     },
     "metadata": {}
    }
   ],
   "metadata": {}
  },
  {
   "cell_type": "markdown",
   "source": [
    "## Portfolio Weights\r\n",
    "Having the index weights, next is choosing the portfolio weights based on dividend -normally calculated based on trailing dividend yield. For simplicity the index weights are rather estimated by calculating the total dividend yield over time.\r\n",
    "\r\n",
    "`calculate_dividend_weights` returns the weights for each stock based on its total dividend yield over time. This is similar to generating the weight for the index, but it's using dividend data instead.\r\n",
    "\r\n",
    "For example, assume the following is `dividends` data:\r\n",
    "```\r\n",
    "                 Prices\r\n",
    "               A         B\r\n",
    "2013-07-08     0         0\r\n",
    "2013-07-09     0         1\r\n",
    "2013-07-10     0.5       0\r\n",
    "2013-07-11     0         0\r\n",
    "2013-07-12     2         0\r\n",
    "...            ...       ...\r\n",
    "```\r\n",
    "The weights created from the function `calculate_dividend_weights` should be the following:\r\n",
    "```\r\n",
    "               A         B\r\n",
    "2013-07-08     NaN       NaN\r\n",
    "2013-07-09     0         1\r\n",
    "2013-07-10     0.333..   0.666..\r\n",
    "2013-07-11     0.333..   0.666..\r\n",
    "2013-07-12     0.714..   0.285..\r\n",
    "...            ...       ...\r\n",
    "```"
   ],
   "metadata": {}
  },
  {
   "cell_type": "code",
   "execution_count": 44,
   "source": [
    "def calculate_dividend_weights(dividends):\r\n",
    "    \"\"\"\r\n",
    "    Calculate dividend weights.\r\n",
    "\r\n",
    "    Parameters\r\n",
    "    ----------\r\n",
    "    dividends : DataFrame\r\n",
    "        Dividend for each stock and date\r\n",
    "\r\n",
    "    Returns\r\n",
    "    -------\r\n",
    "    dividend_weights : DataFrame\r\n",
    "        Weights for each stock and date\r\n",
    "    \"\"\"\r\n",
    "    \r\n",
    "    dividend_growth = dividends.cumsum()\r\n",
    "    dividend_weights = dividend_growth.div(dividend_growth.sum(axis=1),0)\r\n",
    "\r\n",
    "    return dividend_weights\r\n",
    "\r\n",
    "project_tests.test_calculate_dividend_weights(calculate_dividend_weights)"
   ],
   "outputs": [
    {
     "output_type": "stream",
     "name": "stdout",
     "text": [
      "Tests Passed\n"
     ]
    },
    {
     "output_type": "stream",
     "name": "stderr",
     "text": [
      "c:\\Users\\Ayham\\Desktop\\2021_ND_Programs\\2021_AI_ForTrading\\Term_1\\z_Projects\\AI_Finance_Smart-Beta-Portfolio-Optimization\\tests.py:154: FutureWarning:\n",
      "\n",
      "In a future version of pandas all arguments of DataFrame.sort_index will be keyword-only\n",
      "\n",
      "c:\\Users\\Ayham\\Desktop\\2021_ND_Programs\\2021_AI_ForTrading\\Term_1\\z_Projects\\AI_Finance_Smart-Beta-Portfolio-Optimization\\tests.py:155: FutureWarning:\n",
      "\n",
      "In a future version of pandas all arguments of DataFrame.sort_index will be keyword-only\n",
      "\n"
     ]
    }
   ],
   "metadata": {}
  },
  {
   "cell_type": "markdown",
   "source": [
    "### View Data\n",
    "Just like the index weights, let's generate the ETF weights and view them using a heatmap."
   ],
   "metadata": {}
  },
  {
   "cell_type": "code",
   "execution_count": 45,
   "source": [
    "etf_weights = calculate_dividend_weights(dividends)\r\n",
    "project_helper.plot_weights(etf_weights, 'ETF Weights')"
   ],
   "outputs": [
    {
     "output_type": "display_data",
     "data": {
      "text/html": [
       "The graph for ETF Weights is too large. You can view it <a href=\"graphs/ETFWeights.html\" target=\"_blank\">here</a>."
      ],
      "text/plain": [
       "<IPython.core.display.HTML object>"
      ]
     },
     "metadata": {}
    }
   ],
   "metadata": {}
  },
  {
   "cell_type": "markdown",
   "source": [
    "## Returns\r\n",
    "`generate_returns` generates returns data for all the stocks and dates from price data. Since we're not dealing with volatility, we don't have to use ***log returns***."
   ],
   "metadata": {}
  },
  {
   "cell_type": "code",
   "execution_count": 46,
   "source": [
    "def generate_returns(prices):\r\n",
    "    \"\"\"\r\n",
    "    Generate returns for ticker and date.\r\n",
    "\r\n",
    "    Parameters\r\n",
    "    ----------\r\n",
    "    prices : DataFrame\r\n",
    "        Price for each ticker and date\r\n",
    "\r\n",
    "    Returns\r\n",
    "    -------\r\n",
    "    returns : Dataframe\r\n",
    "        The returns for each ticker and date\r\n",
    "    \"\"\"\r\n",
    "\r\n",
    "    shifted_price = prices.shift(1)\r\n",
    "    returns = (prices-shifted_price)/shifted_price\r\n",
    "\r\n",
    "    return returns\r\n",
    "\r\n",
    "project_tests.test_generate_returns(generate_returns)"
   ],
   "outputs": [
    {
     "output_type": "stream",
     "name": "stdout",
     "text": [
      "Tests Passed\n"
     ]
    },
    {
     "output_type": "stream",
     "name": "stderr",
     "text": [
      "c:\\Users\\Ayham\\Desktop\\2021_ND_Programs\\2021_AI_ForTrading\\Term_1\\z_Projects\\AI_Finance_Smart-Beta-Portfolio-Optimization\\tests.py:154: FutureWarning:\n",
      "\n",
      "In a future version of pandas all arguments of DataFrame.sort_index will be keyword-only\n",
      "\n",
      "c:\\Users\\Ayham\\Desktop\\2021_ND_Programs\\2021_AI_ForTrading\\Term_1\\z_Projects\\AI_Finance_Smart-Beta-Portfolio-Optimization\\tests.py:155: FutureWarning:\n",
      "\n",
      "In a future version of pandas all arguments of DataFrame.sort_index will be keyword-only\n",
      "\n"
     ]
    }
   ],
   "metadata": {}
  },
  {
   "cell_type": "markdown",
   "source": [
    "### View Data\n",
    "Let's generate the closing returns using `generate_returns` and view them using a heatmap."
   ],
   "metadata": {}
  },
  {
   "cell_type": "code",
   "execution_count": 47,
   "source": [
    "returns = generate_returns(close)\r\n",
    "project_helper.plot_returns(returns, 'Close Returns')"
   ],
   "outputs": [
    {
     "output_type": "display_data",
     "data": {
      "text/html": [
       "The graph for Close Returns is too large. You can view it <a href=\"graphs/CloseReturns.html\" target=\"_blank\">here</a>."
      ],
      "text/plain": [
       "<IPython.core.display.HTML object>"
      ]
     },
     "metadata": {}
    }
   ],
   "metadata": {}
  },
  {
   "cell_type": "markdown",
   "source": [
    "## Weighted Returns\r\n",
    "With the returns of each stock computed, we can use it to compute the returns for an index or ETF.  `generate_weighted_returns` creates weighted returns using the returns and weights."
   ],
   "metadata": {}
  },
  {
   "cell_type": "code",
   "execution_count": 48,
   "source": [
    "def generate_weighted_returns(returns, weights):\r\n",
    "    \"\"\"\r\n",
    "    Generate weighted returns.\r\n",
    "\r\n",
    "    Parameters\r\n",
    "    ----------\r\n",
    "    returns : DataFrame\r\n",
    "        Returns for each ticker and date\r\n",
    "    weights : DataFrame\r\n",
    "        Weights for each ticker and date\r\n",
    "\r\n",
    "    Returns\r\n",
    "    -------\r\n",
    "    weighted_returns : DataFrame\r\n",
    "        Weighted returns for each ticker and date\r\n",
    "    \"\"\"\r\n",
    "    assert returns.index.equals(weights.index)\r\n",
    "    assert returns.columns.equals(weights.columns)\r\n",
    "    \r\n",
    "    weighted_returns = returns*weights\r\n",
    "\r\n",
    "    return weighted_returns\r\n",
    "\r\n",
    "project_tests.test_generate_weighted_returns(generate_weighted_returns)"
   ],
   "outputs": [
    {
     "output_type": "stream",
     "name": "stdout",
     "text": [
      "Tests Passed\n"
     ]
    },
    {
     "output_type": "stream",
     "name": "stderr",
     "text": [
      "c:\\Users\\Ayham\\Desktop\\2021_ND_Programs\\2021_AI_ForTrading\\Term_1\\z_Projects\\AI_Finance_Smart-Beta-Portfolio-Optimization\\tests.py:154: FutureWarning:\n",
      "\n",
      "In a future version of pandas all arguments of DataFrame.sort_index will be keyword-only\n",
      "\n",
      "c:\\Users\\Ayham\\Desktop\\2021_ND_Programs\\2021_AI_ForTrading\\Term_1\\z_Projects\\AI_Finance_Smart-Beta-Portfolio-Optimization\\tests.py:155: FutureWarning:\n",
      "\n",
      "In a future version of pandas all arguments of DataFrame.sort_index will be keyword-only\n",
      "\n"
     ]
    }
   ],
   "metadata": {}
  },
  {
   "cell_type": "markdown",
   "source": [
    "### View Data\n",
    "Let's generate the ETF and index returns using `generate_weighted_returns` and view them using a heatmap."
   ],
   "metadata": {}
  },
  {
   "cell_type": "code",
   "execution_count": 49,
   "source": [
    "index_weighted_returns = generate_weighted_returns(returns, index_weights)\r\n",
    "etf_weighted_returns = generate_weighted_returns(returns, etf_weights)\r\n",
    "project_helper.plot_returns(index_weighted_returns, 'Index Returns')\r\n",
    "project_helper.plot_returns(etf_weighted_returns, 'ETF Returns')"
   ],
   "outputs": [
    {
     "output_type": "display_data",
     "data": {
      "text/html": [
       "The graph for Index Returns is too large. You can view it <a href=\"graphs/IndexReturns.html\" target=\"_blank\">here</a>."
      ],
      "text/plain": [
       "<IPython.core.display.HTML object>"
      ]
     },
     "metadata": {}
    },
    {
     "output_type": "display_data",
     "data": {
      "text/html": [
       "The graph for ETF Returns is too large. You can view it <a href=\"graphs/ETFReturns.html\" target=\"_blank\">here</a>."
      ],
      "text/plain": [
       "<IPython.core.display.HTML object>"
      ]
     },
     "metadata": {}
    }
   ],
   "metadata": {}
  },
  {
   "cell_type": "markdown",
   "source": [
    "## Cumulative Returns\r\n",
    "To compare performance between the ETF and Index, we're going to calculate the tracking error. Before we do that, we first need to calculate the index and ETF comulative returns. `calculate_cumulative_returns` calculates the cumulative returns over time given the returns."
   ],
   "metadata": {}
  },
  {
   "cell_type": "code",
   "execution_count": 81,
   "source": [
    "def calculate_cumulative_returns(returns):\r\n",
    "    \"\"\"\r\n",
    "    Calculate cumulative returns.\r\n",
    "\r\n",
    "    Parameters\r\n",
    "    ----------\r\n",
    "    returns : DataFrame\r\n",
    "        Returns for each ticker and date\r\n",
    "\r\n",
    "    Returns\r\n",
    "    -------\r\n",
    "    cumulative_returns : Pandas Series\r\n",
    "        Cumulative returns for each date\r\n",
    "    \"\"\"\r\n",
    "    # cumulative return = [p(t)/p(0)] -1\r\n",
    "    # return was calculated with respected to the previous value\r\n",
    "\r\n",
    "    returns_sum = returns.sum(axis=1) + 1 # add one to multiply the ratios ()\r\n",
    "    returns_sum[0] = np.nan # not considered because of the shift in 'returns' \r\n",
    "    cumulative_returns = returns_sum.cumprod(axis= 0,  skipna=True)\r\n",
    "    \r\n",
    "    return cumulative_returns\r\n",
    "\r\n",
    "project_tests.test_calculate_cumulative_returns(calculate_cumulative_returns)"
   ],
   "outputs": [
    {
     "output_type": "stream",
     "name": "stdout",
     "text": [
      "Tests Passed\n"
     ]
    }
   ],
   "metadata": {}
  },
  {
   "cell_type": "markdown",
   "source": [
    "### View Data\n",
    "Let's generate the ETF and index cumulative returns using `calculate_cumulative_returns` and compare the two."
   ],
   "metadata": {}
  },
  {
   "cell_type": "code",
   "execution_count": null,
   "source": [
    "index_weighted_cumulative_returns = calculate_cumulative_returns(index_weighted_returns)\r\n",
    "etf_weighted_cumulative_returns = calculate_cumulative_returns(etf_weighted_returns)\r\n",
    "project_helper.plot_benchmark_returns(index_weighted_cumulative_returns, etf_weighted_cumulative_returns, 'Smart Beta ETF vs Index')"
   ],
   "outputs": [],
   "metadata": {}
  },
  {
   "cell_type": "markdown",
   "source": [
    "## Tracking Error\n",
    "In order to check the performance of the smart beta portfolio, we can calculate the annualized tracking error against the index. Implement `tracking_error` to return the tracking error between the ETF and benchmark.\n",
    "\n",
    "For reference, we'll be using the following annualized tracking error function:\n",
    "$$ TE = \\sqrt{252} * SampleStdev(r_p - r_b) $$\n",
    "\n",
    "Where $ r_p $ is the portfolio/ETF returns and $ r_b $ is the benchmark returns.\n",
    "\n",
    "_Note: When calculating the sample standard deviation, the delta degrees of freedom is 1, which is the also the default value._"
   ],
   "metadata": {}
  },
  {
   "cell_type": "code",
   "execution_count": null,
   "source": [
    "def tracking_error(benchmark_returns_by_date, etf_returns_by_date):\n",
    "    \"\"\"\n",
    "    Calculate the tracking error.\n",
    "\n",
    "    Parameters\n",
    "    ----------\n",
    "    benchmark_returns_by_date : Pandas Series\n",
    "        The benchmark returns for each date\n",
    "    etf_returns_by_date : Pandas Series\n",
    "        The ETF returns for each date\n",
    "\n",
    "    Returns\n",
    "    -------\n",
    "    tracking_error : float\n",
    "        The tracking error\n",
    "    \"\"\"\n",
    "    assert benchmark_returns_by_date.index.equals(etf_returns_by_date.index)\n",
    "    \n",
    "    #TODO: Implement function\n",
    "\n",
    "    return None\n",
    "\n",
    "project_tests.test_tracking_error(tracking_error)"
   ],
   "outputs": [],
   "metadata": {}
  },
  {
   "cell_type": "markdown",
   "source": [
    "### View Data\n",
    "Let's generate the tracking error using `tracking_error`."
   ],
   "metadata": {}
  },
  {
   "cell_type": "code",
   "execution_count": null,
   "source": [
    "smart_beta_tracking_error = tracking_error(np.sum(index_weighted_returns, 1), np.sum(etf_weighted_returns, 1))\n",
    "print('Smart Beta Tracking Error: {}'.format(smart_beta_tracking_error))"
   ],
   "outputs": [],
   "metadata": {}
  },
  {
   "cell_type": "markdown",
   "source": [
    "# Part 2: Portfolio Optimization\n",
    "\n",
    "Now, let's create a second portfolio.  We'll still reuse the market cap weighted index, but this will be independent of the dividend-weighted portfolio that we created in part 1.\n",
    "\n",
    "We want to both minimize the portfolio variance and also want to closely track a market cap weighted index.  In other words, we're trying to minimize the distance between the weights of our portfolio and the weights of the index.\n",
    "\n",
    "$Minimize \\left [ \\sigma^2_p + \\lambda \\sqrt{\\sum_{1}^{m}(weight_i - indexWeight_i)^2} \\right  ]$ where $m$ is the number of stocks in the portfolio, and $\\lambda$ is a scaling factor that you can choose.\n",
    "\n",
    "Why are we doing this? One way that investors evaluate a fund is by how well it tracks its index. The fund is still expected to deviate from the index within a certain range in order to improve fund performance.  A way for a fund to track the performance of its benchmark is by keeping its asset weights similar to the weights of the index.  We’d expect that if the fund has the same stocks as the benchmark, and also the same weights for each stock as the benchmark, the fund would yield about the same returns as the benchmark. By minimizing a linear combination of both the portfolio risk and distance between portfolio and benchmark weights, we attempt to balance the desire to minimize portfolio variance with the goal of tracking the index.\n",
    "\n",
    "\n",
    "## Covariance\n",
    "Implement `get_covariance_returns` to calculate the covariance of the `returns`. We'll use this to calculate the portfolio variance.\n",
    "\n",
    "If we have $m$ stock series, the covariance matrix is an $m \\times m$ matrix containing the covariance between each pair of stocks.  We can use [`Numpy.cov`](https://docs.scipy.org/doc/numpy/reference/generated/numpy.cov.html) to get the covariance.  We give it a 2D array in which each row is a stock series, and each column is an observation at the same period of time. For any `NaN` values, you can replace them with zeros using the [`DataFrame.fillna`](https://pandas.pydata.org/pandas-docs/stable/generated/pandas.DataFrame.fillna.html) function.\n",
    "\n",
    "The covariance matrix $\\mathbf{P} = \n",
    "\\begin{bmatrix}\n",
    "\\sigma^2_{1,1} & ... & \\sigma^2_{1,m} \\\\ \n",
    "... & ... & ...\\\\\n",
    "\\sigma_{m,1} & ... & \\sigma^2_{m,m}  \\\\\n",
    "\\end{bmatrix}$"
   ],
   "metadata": {}
  },
  {
   "cell_type": "code",
   "execution_count": null,
   "source": [
    "def get_covariance_returns(returns):\n",
    "    \"\"\"\n",
    "    Calculate covariance matrices.\n",
    "\n",
    "    Parameters\n",
    "    ----------\n",
    "    returns : DataFrame\n",
    "        Returns for each ticker and date\n",
    "\n",
    "    Returns\n",
    "    -------\n",
    "    returns_covariance  : 2 dimensional Ndarray\n",
    "        The covariance of the returns\n",
    "    \"\"\"\n",
    "    #TODO: Implement function\n",
    "    \n",
    "    return None\n",
    "\n",
    "project_tests.test_get_covariance_returns(get_covariance_returns)"
   ],
   "outputs": [],
   "metadata": {}
  },
  {
   "cell_type": "markdown",
   "source": [
    "### View Data\n",
    "Let's look at the covariance generated from `get_covariance_returns`."
   ],
   "metadata": {}
  },
  {
   "cell_type": "code",
   "execution_count": null,
   "source": [
    "covariance_returns = get_covariance_returns(returns)\n",
    "covariance_returns = pd.DataFrame(covariance_returns, returns.columns, returns.columns)\n",
    "\n",
    "covariance_returns_correlation = np.linalg.inv(np.diag(np.sqrt(np.diag(covariance_returns))))\n",
    "covariance_returns_correlation = pd.DataFrame(\n",
    "    covariance_returns_correlation.dot(covariance_returns).dot(covariance_returns_correlation),\n",
    "    covariance_returns.index,\n",
    "    covariance_returns.columns)\n",
    "\n",
    "project_helper.plot_covariance_returns_correlation(\n",
    "    covariance_returns_correlation,\n",
    "    'Covariance Returns Correlation Matrix')"
   ],
   "outputs": [],
   "metadata": {}
  },
  {
   "cell_type": "markdown",
   "source": [
    "### portfolio variance\n",
    "We can write the portfolio variance $\\sigma^2_p = \\mathbf{x^T} \\mathbf{P} \\mathbf{x}$\n",
    "\n",
    "Recall that the $\\mathbf{x^T} \\mathbf{P} \\mathbf{x}$ is called the quadratic form.\n",
    "We can use the cvxpy function `quad_form(x,P)` to get the quadratic form.\n",
    "\n",
    "### Distance from index weights\n",
    "We want portfolio weights that track the index closely.  So we want to minimize the distance between them.\n",
    "Recall from the Pythagorean theorem that you can get the distance between two points in an x,y plane by adding the square of the x and y distances and taking the square root.  Extending this to any number of dimensions is called the L2 norm.  So: $\\sqrt{\\sum_{1}^{n}(weight_i - indexWeight_i)^2}$  Can also be written as $\\left \\| \\mathbf{x} - \\mathbf{index} \\right \\|_2$.  There's a cvxpy function called [norm()](https://www.cvxpy.org/api_reference/cvxpy.atoms.other_atoms.html#norm)\n",
    "`norm(x, p=2, axis=None)`.  The default is already set to find an L2 norm, so you would pass in one argument, which is the difference between your portfolio weights and the index weights.\n",
    "\n",
    "### objective function\n",
    "We want to minimize both the portfolio variance and the distance of the portfolio weights from the index weights.\n",
    "We also want to choose a `scale` constant, which is $\\lambda$ in the expression. \n",
    "\n",
    "$\\mathbf{x^T} \\mathbf{P} \\mathbf{x} + \\lambda \\left \\| \\mathbf{x} - \\mathbf{index} \\right \\|_2$\n",
    "\n",
    "\n",
    "This lets us choose how much priority we give to minimizing the difference from the index, relative to minimizing the variance of the portfolio.  If you choose a higher value for `scale` ($\\lambda$).\n",
    "\n",
    "We can find the objective function using cvxpy `objective = cvx.Minimize()`.  Can you guess what to pass into this function?\n",
    "\n"
   ],
   "metadata": {}
  },
  {
   "cell_type": "markdown",
   "source": [
    "### constraints\n",
    "We can also define our constraints in a list.  For example, you'd want the weights to sum to one. So $\\sum_{1}^{n}x = 1$.  You may also need to go long only, which means no shorting, so no negative weights.  So $x_i >0 $ for all $i$. you could save a variable as `[x >= 0, sum(x) == 1]`, where x was created using `cvx.Variable()`.\n",
    "\n",
    "### optimization\n",
    "So now that we have our objective function and constraints, we can solve for the values of $\\mathbf{x}$.\n",
    "cvxpy has the constructor `Problem(objective, constraints)`, which returns a `Problem` object.\n",
    "\n",
    "The `Problem` object has a function solve(), which returns the minimum of the solution.  In this case, this is the minimum variance of the portfolio.\n",
    "\n",
    "It also updates the vector $\\mathbf{x}$.\n",
    "\n",
    "We can check out the values of $x_A$ and $x_B$ that gave the minimum portfolio variance by using `x.value`"
   ],
   "metadata": {}
  },
  {
   "cell_type": "code",
   "execution_count": null,
   "source": [
    "import cvxpy as cvx\n",
    "\n",
    "def get_optimal_weights(covariance_returns, index_weights, scale=2.0):\n",
    "    \"\"\"\n",
    "    Find the optimal weights.\n",
    "\n",
    "    Parameters\n",
    "    ----------\n",
    "    covariance_returns : 2 dimensional Ndarray\n",
    "        The covariance of the returns\n",
    "    index_weights : Pandas Series\n",
    "        Index weights for all tickers at a period in time\n",
    "    scale : int\n",
    "        The penalty factor for weights the deviate from the index \n",
    "    Returns\n",
    "    -------\n",
    "    x : 1 dimensional Ndarray\n",
    "        The solution for x\n",
    "    \"\"\"\n",
    "    assert len(covariance_returns.shape) == 2\n",
    "    assert len(index_weights.shape) == 1\n",
    "    assert covariance_returns.shape[0] == covariance_returns.shape[1]  == index_weights.shape[0]\n",
    "\n",
    "    #TODO: Implement function\n",
    "    \n",
    "    return None\n",
    "\n",
    "project_tests.test_get_optimal_weights(get_optimal_weights)"
   ],
   "outputs": [],
   "metadata": {}
  },
  {
   "cell_type": "markdown",
   "source": [
    "## Optimized Portfolio\n",
    "Using the `get_optimal_weights` function, let's generate the optimal ETF weights without rebalanceing. We can do this by feeding in the covariance of the entire history of data. We also need to feed in a set of index weights. We'll go with the average weights of the index over time."
   ],
   "metadata": {}
  },
  {
   "cell_type": "code",
   "execution_count": null,
   "source": [
    "raw_optimal_single_rebalance_etf_weights = get_optimal_weights(covariance_returns.values, index_weights.iloc[-1])\n",
    "optimal_single_rebalance_etf_weights = pd.DataFrame(\n",
    "    np.tile(raw_optimal_single_rebalance_etf_weights, (len(returns.index), 1)),\n",
    "    returns.index,\n",
    "    returns.columns)"
   ],
   "outputs": [],
   "metadata": {}
  },
  {
   "cell_type": "markdown",
   "source": [
    "With our ETF weights built, let's compare it to the index. Run the next cell to calculate the ETF returns and compare it to the index returns."
   ],
   "metadata": {}
  },
  {
   "cell_type": "code",
   "execution_count": null,
   "source": [
    "optim_etf_returns = generate_weighted_returns(returns, optimal_single_rebalance_etf_weights)\n",
    "optim_etf_cumulative_returns = calculate_cumulative_returns(optim_etf_returns)\n",
    "project_helper.plot_benchmark_returns(index_weighted_cumulative_returns, optim_etf_cumulative_returns, 'Optimized ETF vs Index')\n",
    "\n",
    "optim_etf_tracking_error = tracking_error(np.sum(index_weighted_returns, 1), np.sum(optim_etf_returns, 1))\n",
    "print('Optimized ETF Tracking Error: {}'.format(optim_etf_tracking_error))"
   ],
   "outputs": [],
   "metadata": {}
  },
  {
   "cell_type": "markdown",
   "source": [
    "## Rebalance Portfolio Over Time\n",
    "The single optimized ETF portfolio used the same weights for the entire history. This might not be the optimal weights for the entire period. Let's rebalance the portfolio over the same period instead of using the same weights. Implement `rebalance_portfolio` to rebalance a portfolio.\n",
    "\n",
    "Reblance the portfolio every n number of days, which is given as `shift_size`. When rebalancing, you should look back a certain number of days of data in the past, denoted as `chunk_size`. Using this data, compute the optoimal weights using `get_optimal_weights` and `get_covariance_returns`."
   ],
   "metadata": {}
  },
  {
   "cell_type": "code",
   "execution_count": null,
   "source": [
    "def rebalance_portfolio(returns, index_weights, shift_size, chunk_size):\n",
    "    \"\"\"\n",
    "    Get weights for each rebalancing of the portfolio.\n",
    "\n",
    "    Parameters\n",
    "    ----------\n",
    "    returns : DataFrame\n",
    "        Returns for each ticker and date\n",
    "    index_weights : DataFrame\n",
    "        Index weight for each ticker and date\n",
    "    shift_size : int\n",
    "        The number of days between each rebalance\n",
    "    chunk_size : int\n",
    "        The number of days to look in the past for rebalancing\n",
    "\n",
    "    Returns\n",
    "    -------\n",
    "    all_rebalance_weights  : list of Ndarrays\n",
    "        The ETF weights for each point they are rebalanced\n",
    "    \"\"\"\n",
    "    assert returns.index.equals(index_weights.index)\n",
    "    assert returns.columns.equals(index_weights.columns)\n",
    "    assert shift_size > 0\n",
    "    assert chunk_size >= 0\n",
    "    \n",
    "    #TODO: Implement function\n",
    "    \n",
    "    return None\n",
    "\n",
    "project_tests.test_rebalance_portfolio(rebalance_portfolio)"
   ],
   "outputs": [],
   "metadata": {}
  },
  {
   "cell_type": "markdown",
   "source": [
    "Run the following cell to rebalance the portfolio using `rebalance_portfolio`."
   ],
   "metadata": {}
  },
  {
   "cell_type": "code",
   "execution_count": null,
   "source": [
    "chunk_size = 250\n",
    "shift_size = 5\n",
    "all_rebalance_weights = rebalance_portfolio(returns, index_weights, shift_size, chunk_size)"
   ],
   "outputs": [],
   "metadata": {}
  },
  {
   "cell_type": "markdown",
   "source": [
    "## Portfolio Turnover\n",
    "With the portfolio rebalanced, we need to use a metric to measure the cost of rebalancing the portfolio. Implement `get_portfolio_turnover` to calculate the annual portfolio turnover. We'll be using the formulas used in the classroom:\n",
    "\n",
    "$ AnnualizedTurnover =\\frac{SumTotalTurnover}{NumberOfRebalanceEvents} * NumberofRebalanceEventsPerYear $\n",
    "\n",
    "$ SumTotalTurnover =\\sum_{t,n}{\\left | x_{t,n} - x_{t+1,n} \\right |} $ Where $ x_{t,n} $ are the weights at time $ t $ for equity $ n $.\n",
    "\n",
    "$ SumTotalTurnover $ is just a different way of writing $ \\sum \\left | x_{t_1,n} - x_{t_2,n} \\right | $"
   ],
   "metadata": {}
  },
  {
   "cell_type": "code",
   "execution_count": null,
   "source": [
    "def get_portfolio_turnover(all_rebalance_weights, shift_size, rebalance_count, n_trading_days_in_year=252):\n",
    "    \"\"\"\n",
    "    Calculage portfolio turnover.\n",
    "\n",
    "    Parameters\n",
    "    ----------\n",
    "    all_rebalance_weights : list of Ndarrays\n",
    "        The ETF weights for each point they are rebalanced\n",
    "    shift_size : int\n",
    "        The number of days between each rebalance\n",
    "    rebalance_count : int\n",
    "        Number of times the portfolio was rebalanced\n",
    "    n_trading_days_in_year: int\n",
    "        Number of trading days in a year\n",
    "\n",
    "    Returns\n",
    "    -------\n",
    "    portfolio_turnover  : float\n",
    "        The portfolio turnover\n",
    "    \"\"\"\n",
    "    assert shift_size > 0\n",
    "    assert rebalance_count > 0\n",
    "    \n",
    "    #TODO: Implement function\n",
    "    \n",
    "    return None\n",
    "\n",
    "project_tests.test_get_portfolio_turnover(get_portfolio_turnover)"
   ],
   "outputs": [],
   "metadata": {}
  },
  {
   "cell_type": "markdown",
   "source": [
    "Run the following cell to get the portfolio turnover from  `get_portfolio turnover`."
   ],
   "metadata": {}
  },
  {
   "cell_type": "code",
   "execution_count": null,
   "source": [
    "print(get_portfolio_turnover(all_rebalance_weights, shift_size, len(all_rebalance_weights) - 1))"
   ],
   "outputs": [],
   "metadata": {}
  },
  {
   "cell_type": "markdown",
   "source": [
    "That's it! You've built a smart beta portfolio in part 1 and did portfolio optimization in part 2. You can now submit your project."
   ],
   "metadata": {}
  },
  {
   "cell_type": "markdown",
   "source": [
    "## Submission\n",
    "Now that you're done with the project, it's time to submit it. Click the submit button in the bottom right. One of our reviewers will give you feedback on your project with a pass or not passed grade. You can continue to the next section while you wait for feedback."
   ],
   "metadata": {}
  }
 ],
 "metadata": {
  "kernelspec": {
   "name": "python3",
   "display_name": "Python 3.8.10 64-bit ('ML_38': conda)"
  },
  "language_info": {
   "codemirror_mode": {
    "name": "ipython",
    "version": 3
   },
   "file_extension": ".py",
   "mimetype": "text/x-python",
   "name": "python",
   "nbconvert_exporter": "python",
   "pygments_lexer": "ipython3",
   "version": "3.8.10"
  },
  "interpreter": {
   "hash": "9bfebc59ffaa81759bff510d15ed7b84003c96aec5c271b62e6bc083e990d2b7"
  }
 },
 "nbformat": 4,
 "nbformat_minor": 2
}